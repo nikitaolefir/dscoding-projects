{
 "cells": [
  {
   "cell_type": "code",
   "execution_count": 1,
   "metadata": {},
   "outputs": [],
   "source": [
    "import pandas as pd"
   ]
  },
  {
   "cell_type": "code",
   "execution_count": 2,
   "metadata": {},
   "outputs": [],
   "source": [
    "excel_file_path = '/Users/azatbekovna/Desktop/UNIMI/Python/ProjectDSE/dscoding-projects/malika.makhmudova/travel-project/worldcities.xlsx'"
   ]
  },
  {
   "cell_type": "code",
   "execution_count": 3,
   "metadata": {
    "scrolled": true
   },
   "outputs": [
    {
     "name": "stdout",
     "output_type": "stream",
     "text": [
      "              city   city_ascii      lat       lng      country iso2 iso3  \\\n",
      "0            Tokyo        Tokyo  35.6897  139.6922        Japan   JP  JPN   \n",
      "1          Jakarta      Jakarta  -6.2146  106.8451    Indonesia   ID  IDN   \n",
      "2            Delhi        Delhi  28.6600   77.2300        India   IN  IND   \n",
      "3           Mumbai       Mumbai  18.9667   72.8333        India   IN  IND   \n",
      "4           Manila       Manila  14.5958  120.9772  Philippines   PH  PHL   \n",
      "...            ...          ...      ...       ...          ...  ...  ...   \n",
      "26564         Nord         Nord  81.7166  -17.8000    Greenland   GL  GRL   \n",
      "26565  Timmiarmiut  Timmiarmiut  62.5333  -42.2167    Greenland   GL  GRL   \n",
      "26566  Cheremoshna  Cheremoshna  51.3894   30.0989      Ukraine   UA  UKR   \n",
      "26567    Ambarchik    Ambarchik  69.6510  162.3336       Russia   RU  RUS   \n",
      "26568      Nordvik      Nordvik  74.0165  111.5100       Russia   RU  RUS   \n",
      "\n",
      "               admin_name  capital  population          id  \n",
      "0                   Tōkyō  primary  37977000.0  1392685764  \n",
      "1                 Jakarta  primary  34540000.0  1360771077  \n",
      "2                   Delhi    admin  29617000.0  1356872604  \n",
      "3             Mahārāshtra    admin  23355000.0  1356226629  \n",
      "4                  Manila  primary  23088000.0  1608618140  \n",
      "...                   ...      ...         ...         ...  \n",
      "26564          Sermersooq      NaN        10.0  1304217709  \n",
      "26565            Kujalleq      NaN        10.0  1304206491  \n",
      "26566   Kyyivs’ka Oblast’      NaN         0.0  1804043438  \n",
      "26567    Sakha (Yakutiya)      NaN         0.0  1643739159  \n",
      "26568  Krasnoyarskiy Kray      NaN         0.0  1643587468  \n",
      "\n",
      "[26569 rows x 11 columns]\n"
     ]
    }
   ],
   "source": [
    "df = pd.read_excel(excel_file_path)\n",
    "print(df)"
   ]
  },
  {
   "cell_type": "code",
   "execution_count": null,
   "metadata": {
    "scrolled": false
   },
   "outputs": [],
   "source": []
  },
  {
   "cell_type": "code",
   "execution_count": null,
   "metadata": {
    "scrolled": true
   },
   "outputs": [],
   "source": []
  },
  {
   "cell_type": "code",
   "execution_count": null,
   "metadata": {},
   "outputs": [],
   "source": []
  }
 ],
 "metadata": {
  "kernelspec": {
   "display_name": "Python 3 (ipykernel)",
   "language": "python",
   "name": "python3"
  },
  "language_info": {
   "codemirror_mode": {
    "name": "ipython",
    "version": 3
   },
   "file_extension": ".py",
   "mimetype": "text/x-python",
   "name": "python",
   "nbconvert_exporter": "python",
   "pygments_lexer": "ipython3",
   "version": "3.11.5"
  }
 },
 "nbformat": 4,
 "nbformat_minor": 2
}
