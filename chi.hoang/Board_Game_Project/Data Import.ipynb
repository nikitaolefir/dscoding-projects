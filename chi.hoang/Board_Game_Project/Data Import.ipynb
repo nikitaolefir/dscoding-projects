{
 "cells": [
  {
   "cell_type": "code",
   "execution_count": 1,
   "id": "initial_id",
   "metadata": {
    "collapsed": true,
    "ExecuteTime": {
     "end_time": "2023-10-19T23:45:48.879445900Z",
     "start_time": "2023-10-19T23:45:46.378395800Z"
    }
   },
   "outputs": [],
   "source": [
    "import pandas as pd"
   ]
  },
  {
   "cell_type": "code",
   "execution_count": 12,
   "outputs": [],
   "source": [
    "path = \"\\\\Users\\\\Admin\\\\AppData\\\\Local\\\\Temp\\\\19cd8d5d-a1e9-45a3-8930-a522ca78fe20_bgg.csv (1).zip.e20\\\\bgg.csv\""
   ],
   "metadata": {
    "collapsed": false,
    "ExecuteTime": {
     "end_time": "2023-10-20T00:01:37.309410500Z",
     "start_time": "2023-10-20T00:01:37.228992600Z"
    }
   },
   "id": "95dcca41730299a3"
  },
  {
   "cell_type": "code",
   "execution_count": 13,
   "outputs": [
    {
     "data": {
      "text/plain": "<_io.TextIOWrapper name='\\\\Users\\\\Admin\\\\AppData\\\\Local\\\\Temp\\\\19cd8d5d-a1e9-45a3-8930-a522ca78fe20_bgg.csv (1).zip.e20\\\\bgg.csv' mode='r' encoding='cp1252'>"
     },
     "execution_count": 13,
     "metadata": {},
     "output_type": "execute_result"
    }
   ],
   "source": [
    "open(path, 'r')"
   ],
   "metadata": {
    "collapsed": false,
    "ExecuteTime": {
     "end_time": "2023-10-20T00:01:41.039994100Z",
     "start_time": "2023-10-20T00:01:40.900103100Z"
    }
   },
   "id": "5a25af965aace914"
  },
  {
   "cell_type": "code",
   "execution_count": null,
   "outputs": [],
   "source": [],
   "metadata": {
    "collapsed": false
   },
   "id": "203e4e30eb43119b"
  }
 ],
 "metadata": {
  "kernelspec": {
   "display_name": "Python 3",
   "language": "python",
   "name": "python3"
  },
  "language_info": {
   "codemirror_mode": {
    "name": "ipython",
    "version": 2
   },
   "file_extension": ".py",
   "mimetype": "text/x-python",
   "name": "python",
   "nbconvert_exporter": "python",
   "pygments_lexer": "ipython2",
   "version": "2.7.6"
  }
 },
 "nbformat": 4,
 "nbformat_minor": 5
}
