{
 "cells": [
  {
   "cell_type": "code",
   "execution_count": 28,
   "id": "initial_id",
   "metadata": {
    "collapsed": true,
    "ExecuteTime": {
     "end_time": "2023-10-23T23:23:21.646568400Z",
     "start_time": "2023-10-23T23:23:21.322570800Z"
    }
   },
   "outputs": [],
   "source": [
    "import pandas as pd"
   ]
  },
  {
   "cell_type": "code",
   "execution_count": 29,
   "outputs": [
    {
     "data": {
      "text/plain": "          game                                         title  rating\n0        25984  Trivial Pursuit: Genus IV – Canadian Edition     3.0\n1        25984  Trivial Pursuit: Genus IV – Canadian Edition     5.0\n2        25984  Trivial Pursuit: Genus IV – Canadian Edition     3.0\n3        25984  Trivial Pursuit: Genus IV – Canadian Edition     7.0\n4        25984  Trivial Pursuit: Genus IV – Canadian Edition     6.0\n...        ...                                           ...     ...\n1082162  11906                 Source of the Nile: Tributary     5.0\n1082163  11906                 Source of the Nile: Tributary     NaN\n1082164  11906                 Source of the Nile: Tributary     NaN\n1082165  11906                 Source of the Nile: Tributary     NaN\n1082166  11906                 Source of the Nile: Tributary     NaN\n\n[1082167 rows x 3 columns]",
      "text/html": "<div>\n<style scoped>\n    .dataframe tbody tr th:only-of-type {\n        vertical-align: middle;\n    }\n\n    .dataframe tbody tr th {\n        vertical-align: top;\n    }\n\n    .dataframe thead th {\n        text-align: right;\n    }\n</style>\n<table border=\"1\" class=\"dataframe\">\n  <thead>\n    <tr style=\"text-align: right;\">\n      <th></th>\n      <th>game</th>\n      <th>title</th>\n      <th>rating</th>\n    </tr>\n  </thead>\n  <tbody>\n    <tr>\n      <th>0</th>\n      <td>25984</td>\n      <td>Trivial Pursuit: Genus IV – Canadian Edition</td>\n      <td>3.0</td>\n    </tr>\n    <tr>\n      <th>1</th>\n      <td>25984</td>\n      <td>Trivial Pursuit: Genus IV – Canadian Edition</td>\n      <td>5.0</td>\n    </tr>\n    <tr>\n      <th>2</th>\n      <td>25984</td>\n      <td>Trivial Pursuit: Genus IV – Canadian Edition</td>\n      <td>3.0</td>\n    </tr>\n    <tr>\n      <th>3</th>\n      <td>25984</td>\n      <td>Trivial Pursuit: Genus IV – Canadian Edition</td>\n      <td>7.0</td>\n    </tr>\n    <tr>\n      <th>4</th>\n      <td>25984</td>\n      <td>Trivial Pursuit: Genus IV – Canadian Edition</td>\n      <td>6.0</td>\n    </tr>\n    <tr>\n      <th>...</th>\n      <td>...</td>\n      <td>...</td>\n      <td>...</td>\n    </tr>\n    <tr>\n      <th>1082162</th>\n      <td>11906</td>\n      <td>Source of the Nile: Tributary</td>\n      <td>5.0</td>\n    </tr>\n    <tr>\n      <th>1082163</th>\n      <td>11906</td>\n      <td>Source of the Nile: Tributary</td>\n      <td>NaN</td>\n    </tr>\n    <tr>\n      <th>1082164</th>\n      <td>11906</td>\n      <td>Source of the Nile: Tributary</td>\n      <td>NaN</td>\n    </tr>\n    <tr>\n      <th>1082165</th>\n      <td>11906</td>\n      <td>Source of the Nile: Tributary</td>\n      <td>NaN</td>\n    </tr>\n    <tr>\n      <th>1082166</th>\n      <td>11906</td>\n      <td>Source of the Nile: Tributary</td>\n      <td>NaN</td>\n    </tr>\n  </tbody>\n</table>\n<p>1082167 rows × 3 columns</p>\n</div>"
     },
     "execution_count": 29,
     "metadata": {},
     "output_type": "execute_result"
    }
   ],
   "source": [
    "df = pd.read_csv(\"bgg.csv\")\n",
    "df"
   ],
   "metadata": {
    "collapsed": false,
    "ExecuteTime": {
     "end_time": "2023-10-23T23:23:22.988579Z",
     "start_time": "2023-10-23T23:23:21.346528700Z"
    }
   },
   "id": "88160abff0e7576"
  },
  {
   "cell_type": "code",
   "execution_count": 30,
   "outputs": [
    {
     "data": {
      "text/plain": "          game             title  rating\n28668    30457  !dentity Crisis?    2.00\n28658    30457  !dentity Crisis?    3.00\n28660    30457  !dentity Crisis?    5.00\n28669    30457  !dentity Crisis?    5.00\n28663    30457  !dentity Crisis?    6.00\n...        ...               ...     ...\n773346  177572  猿道 (Monkey Road)    7.00\n773347  177572  猿道 (Monkey Road)    8.56\n773343  177572  猿道 (Monkey Road)     NaN\n773345  177572  猿道 (Monkey Road)     NaN\n773351  177572  猿道 (Monkey Road)     NaN\n\n[1082167 rows x 3 columns]",
      "text/html": "<div>\n<style scoped>\n    .dataframe tbody tr th:only-of-type {\n        vertical-align: middle;\n    }\n\n    .dataframe tbody tr th {\n        vertical-align: top;\n    }\n\n    .dataframe thead th {\n        text-align: right;\n    }\n</style>\n<table border=\"1\" class=\"dataframe\">\n  <thead>\n    <tr style=\"text-align: right;\">\n      <th></th>\n      <th>game</th>\n      <th>title</th>\n      <th>rating</th>\n    </tr>\n  </thead>\n  <tbody>\n    <tr>\n      <th>28668</th>\n      <td>30457</td>\n      <td>!dentity Crisis?</td>\n      <td>2.00</td>\n    </tr>\n    <tr>\n      <th>28658</th>\n      <td>30457</td>\n      <td>!dentity Crisis?</td>\n      <td>3.00</td>\n    </tr>\n    <tr>\n      <th>28660</th>\n      <td>30457</td>\n      <td>!dentity Crisis?</td>\n      <td>5.00</td>\n    </tr>\n    <tr>\n      <th>28669</th>\n      <td>30457</td>\n      <td>!dentity Crisis?</td>\n      <td>5.00</td>\n    </tr>\n    <tr>\n      <th>28663</th>\n      <td>30457</td>\n      <td>!dentity Crisis?</td>\n      <td>6.00</td>\n    </tr>\n    <tr>\n      <th>...</th>\n      <td>...</td>\n      <td>...</td>\n      <td>...</td>\n    </tr>\n    <tr>\n      <th>773346</th>\n      <td>177572</td>\n      <td>猿道 (Monkey Road)</td>\n      <td>7.00</td>\n    </tr>\n    <tr>\n      <th>773347</th>\n      <td>177572</td>\n      <td>猿道 (Monkey Road)</td>\n      <td>8.56</td>\n    </tr>\n    <tr>\n      <th>773343</th>\n      <td>177572</td>\n      <td>猿道 (Monkey Road)</td>\n      <td>NaN</td>\n    </tr>\n    <tr>\n      <th>773345</th>\n      <td>177572</td>\n      <td>猿道 (Monkey Road)</td>\n      <td>NaN</td>\n    </tr>\n    <tr>\n      <th>773351</th>\n      <td>177572</td>\n      <td>猿道 (Monkey Road)</td>\n      <td>NaN</td>\n    </tr>\n  </tbody>\n</table>\n<p>1082167 rows × 3 columns</p>\n</div>"
     },
     "execution_count": 30,
     "metadata": {},
     "output_type": "execute_result"
    }
   ],
   "source": [
    "df_sorted = df.sort_values(['title', 'rating'], ascending=(True, True))\n",
    "df_sorted"
   ],
   "metadata": {
    "collapsed": false,
    "ExecuteTime": {
     "end_time": "2023-10-23T23:23:24.067853200Z",
     "start_time": "2023-10-23T23:23:22.997705500Z"
    }
   },
   "id": "8e8d2147c05e6674"
  },
  {
   "cell_type": "code",
   "execution_count": 31,
   "outputs": [
    {
     "data": {
      "text/plain": "          game             title  rating\n0        30457  !dentity Crisis?    2.00\n1        30457  !dentity Crisis?    3.00\n2        30457  !dentity Crisis?    5.00\n3        30457  !dentity Crisis?    5.00\n4        30457  !dentity Crisis?    6.00\n...        ...               ...     ...\n706808  177572  猿道 (Monkey Road)    6.50\n706809  177572  猿道 (Monkey Road)    7.00\n706810  177572  猿道 (Monkey Road)    7.00\n706811  177572  猿道 (Monkey Road)    7.00\n706812  177572  猿道 (Monkey Road)    8.56\n\n[706813 rows x 3 columns]",
      "text/html": "<div>\n<style scoped>\n    .dataframe tbody tr th:only-of-type {\n        vertical-align: middle;\n    }\n\n    .dataframe tbody tr th {\n        vertical-align: top;\n    }\n\n    .dataframe thead th {\n        text-align: right;\n    }\n</style>\n<table border=\"1\" class=\"dataframe\">\n  <thead>\n    <tr style=\"text-align: right;\">\n      <th></th>\n      <th>game</th>\n      <th>title</th>\n      <th>rating</th>\n    </tr>\n  </thead>\n  <tbody>\n    <tr>\n      <th>0</th>\n      <td>30457</td>\n      <td>!dentity Crisis?</td>\n      <td>2.00</td>\n    </tr>\n    <tr>\n      <th>1</th>\n      <td>30457</td>\n      <td>!dentity Crisis?</td>\n      <td>3.00</td>\n    </tr>\n    <tr>\n      <th>2</th>\n      <td>30457</td>\n      <td>!dentity Crisis?</td>\n      <td>5.00</td>\n    </tr>\n    <tr>\n      <th>3</th>\n      <td>30457</td>\n      <td>!dentity Crisis?</td>\n      <td>5.00</td>\n    </tr>\n    <tr>\n      <th>4</th>\n      <td>30457</td>\n      <td>!dentity Crisis?</td>\n      <td>6.00</td>\n    </tr>\n    <tr>\n      <th>...</th>\n      <td>...</td>\n      <td>...</td>\n      <td>...</td>\n    </tr>\n    <tr>\n      <th>706808</th>\n      <td>177572</td>\n      <td>猿道 (Monkey Road)</td>\n      <td>6.50</td>\n    </tr>\n    <tr>\n      <th>706809</th>\n      <td>177572</td>\n      <td>猿道 (Monkey Road)</td>\n      <td>7.00</td>\n    </tr>\n    <tr>\n      <th>706810</th>\n      <td>177572</td>\n      <td>猿道 (Monkey Road)</td>\n      <td>7.00</td>\n    </tr>\n    <tr>\n      <th>706811</th>\n      <td>177572</td>\n      <td>猿道 (Monkey Road)</td>\n      <td>7.00</td>\n    </tr>\n    <tr>\n      <th>706812</th>\n      <td>177572</td>\n      <td>猿道 (Monkey Road)</td>\n      <td>8.56</td>\n    </tr>\n  </tbody>\n</table>\n<p>706813 rows × 3 columns</p>\n</div>"
     },
     "execution_count": 31,
     "metadata": {},
     "output_type": "execute_result"
    }
   ],
   "source": [
    "df2=df_sorted.dropna().reset_index(drop=True)\n",
    "df2"
   ],
   "metadata": {
    "collapsed": false,
    "ExecuteTime": {
     "end_time": "2023-10-23T23:23:24.313101700Z",
     "start_time": "2023-10-23T23:23:24.052989100Z"
    }
   },
   "id": "3a6fc1e7f7452b58"
  },
  {
   "cell_type": "code",
   "execution_count": 38,
   "outputs": [
    {
     "data": {
      "text/plain": "          game             title\n0        30457  !dentity Crisis?\n1        30457  !dentity Crisis?\n2        30457  !dentity Crisis?\n3        30457  !dentity Crisis?\n4        30457  !dentity Crisis?\n...        ...               ...\n706808  177572  猿道 (Monkey Road)\n706809  177572  猿道 (Monkey Road)\n706810  177572  猿道 (Monkey Road)\n706811  177572  猿道 (Monkey Road)\n706812  177572  猿道 (Monkey Road)\n\n[706813 rows x 2 columns]",
      "text/html": "<div>\n<style scoped>\n    .dataframe tbody tr th:only-of-type {\n        vertical-align: middle;\n    }\n\n    .dataframe tbody tr th {\n        vertical-align: top;\n    }\n\n    .dataframe thead th {\n        text-align: right;\n    }\n</style>\n<table border=\"1\" class=\"dataframe\">\n  <thead>\n    <tr style=\"text-align: right;\">\n      <th></th>\n      <th>game</th>\n      <th>title</th>\n    </tr>\n  </thead>\n  <tbody>\n    <tr>\n      <th>0</th>\n      <td>30457</td>\n      <td>!dentity Crisis?</td>\n    </tr>\n    <tr>\n      <th>1</th>\n      <td>30457</td>\n      <td>!dentity Crisis?</td>\n    </tr>\n    <tr>\n      <th>2</th>\n      <td>30457</td>\n      <td>!dentity Crisis?</td>\n    </tr>\n    <tr>\n      <th>3</th>\n      <td>30457</td>\n      <td>!dentity Crisis?</td>\n    </tr>\n    <tr>\n      <th>4</th>\n      <td>30457</td>\n      <td>!dentity Crisis?</td>\n    </tr>\n    <tr>\n      <th>...</th>\n      <td>...</td>\n      <td>...</td>\n    </tr>\n    <tr>\n      <th>706808</th>\n      <td>177572</td>\n      <td>猿道 (Monkey Road)</td>\n    </tr>\n    <tr>\n      <th>706809</th>\n      <td>177572</td>\n      <td>猿道 (Monkey Road)</td>\n    </tr>\n    <tr>\n      <th>706810</th>\n      <td>177572</td>\n      <td>猿道 (Monkey Road)</td>\n    </tr>\n    <tr>\n      <th>706811</th>\n      <td>177572</td>\n      <td>猿道 (Monkey Road)</td>\n    </tr>\n    <tr>\n      <th>706812</th>\n      <td>177572</td>\n      <td>猿道 (Monkey Road)</td>\n    </tr>\n  </tbody>\n</table>\n<p>706813 rows × 2 columns</p>\n</div>"
     },
     "execution_count": 38,
     "metadata": {},
     "output_type": "execute_result"
    }
   ],
   "source": [
    "df3 = df2[['game', 'title']]\n",
    "df3"
   ],
   "metadata": {
    "collapsed": false,
    "ExecuteTime": {
     "end_time": "2023-10-23T23:38:32.045396500Z",
     "start_time": "2023-10-23T23:38:31.961132400Z"
    }
   },
   "id": "8613e38c7017f162"
  },
  {
   "cell_type": "code",
   "execution_count": 32,
   "outputs": [
    {
     "data": {
      "text/plain": "title\n!dentity Crisis?                                        52.60\n#MyLife                                                 40.00\n&Cetera                                                226.50\n'65: Squad-Level Combat in the Jungles of Vietnam      304.50\n'CA' Tactical Naval Warfare in the Pacific, 1941-45    167.00\n                                                        ...  \nなつめも (Natsumemo)                                       142.50\nひとひら (Hitohira)                                         74.00\nカマクラコレクション (Kamakura Collection)                        30.00\nボブジテン (Bob Jiten)                                       44.00\n猿道 (Monkey Road)                                        52.06\nName: rating, Length: 23264, dtype: float64"
     },
     "execution_count": 32,
     "metadata": {},
     "output_type": "execute_result"
    }
   ],
   "source": [
    "game_ratings_sum = df2.groupby('title')['rating'].sum()\n",
    "game_ratings_sum"
   ],
   "metadata": {
    "collapsed": false,
    "ExecuteTime": {
     "end_time": "2023-10-23T23:23:24.646596100Z",
     "start_time": "2023-10-23T23:23:24.246478400Z"
    }
   },
   "id": "2403a6b3059c38e8"
  },
  {
   "cell_type": "code",
   "execution_count": 34,
   "outputs": [
    {
     "data": {
      "text/plain": "title\nCosmic Encounter                        312\nGettysburg                              221\nDune                                    198\nLord of the Rings: The Confrontation    169\nArkham Horror                           167\n                                       ... \nThe LogiQuad Game System                  1\nI'm a Celebrity                           1\nCeuta                                     1\nCentre Chess                              1\nPutsch au Panador                         1\nName: count, Length: 23264, dtype: int64"
     },
     "execution_count": 34,
     "metadata": {},
     "output_type": "execute_result"
    }
   ],
   "source": [
    "dftitle=df2['title'].value_counts()\n",
    "dftitle"
   ],
   "metadata": {
    "collapsed": false,
    "ExecuteTime": {
     "end_time": "2023-10-23T23:23:51.270291500Z",
     "start_time": "2023-10-23T23:23:51.129214100Z"
    }
   },
   "id": "7aec49941eaf3140"
  },
  {
   "cell_type": "code",
   "execution_count": 36,
   "outputs": [
    {
     "data": {
      "text/plain": "title\n!dentity Crisis?                                       5.844444\n#MyLife                                                5.714286\n&Cetera                                                7.306452\n'65: Squad-Level Combat in the Jungles of Vietnam      7.612500\n'CA' Tactical Naval Warfare in the Pacific, 1941-45    4.513514\n                                                         ...   \nなつめも (Natsumemo)                                       7.916667\nひとひら (Hitohira)                                        6.166667\nカマクラコレクション (Kamakura Collection)                       7.500000\nボブジテン (Bob Jiten)                                      7.333333\n猿道 (Monkey Road)                                       5.784444\nName: rating, Length: 23264, dtype: float64"
     },
     "execution_count": 36,
     "metadata": {},
     "output_type": "execute_result"
    }
   ],
   "source": [
    "game_ratings_average = df2.groupby('title')['rating'].mean()\n",
    "game_ratings_average"
   ],
   "metadata": {
    "collapsed": false,
    "ExecuteTime": {
     "end_time": "2023-10-23T23:30:10.169478300Z",
     "start_time": "2023-10-23T23:30:09.916677300Z"
    }
   },
   "id": "a6e7a0f8db849c86"
  },
  {
   "cell_type": "code",
   "execution_count": 49,
   "outputs": [],
   "source": [
    "table1=game_ratings_sum"
   ],
   "metadata": {
    "collapsed": false,
    "ExecuteTime": {
     "end_time": "2023-10-23T23:47:16.108517Z",
     "start_time": "2023-10-23T23:47:16.064448400Z"
    }
   },
   "id": "48d56e06e64f99fb"
  },
  {
   "cell_type": "code",
   "execution_count": 50,
   "outputs": [],
   "source": [
    "table2=dftitle"
   ],
   "metadata": {
    "collapsed": false,
    "ExecuteTime": {
     "end_time": "2023-10-23T23:47:19.403571500Z",
     "start_time": "2023-10-23T23:47:19.372103900Z"
    }
   },
   "id": "5a2256a4636ff854"
  },
  {
   "cell_type": "code",
   "execution_count": 51,
   "outputs": [],
   "source": [
    "table3=game_ratings_average"
   ],
   "metadata": {
    "collapsed": false,
    "ExecuteTime": {
     "end_time": "2023-10-23T23:47:23.466222Z",
     "start_time": "2023-10-23T23:47:23.418966200Z"
    }
   },
   "id": "1075be3ae2b7145a"
  },
  {
   "cell_type": "code",
   "execution_count": 54,
   "outputs": [
    {
     "data": {
      "text/plain": "                                                    rating  count\ntitle                                                            \n!dentity Crisis?                                     52.60      9\n#MyLife                                              40.00      7\n&Cetera                                             226.50     31\n'65: Squad-Level Combat in the Jungles of Vietnam   304.50     40\n'CA' Tactical Naval Warfare in the Pacific, 194...  167.00     37\n...                                                    ...    ...\nなつめも (Natsumemo)                                    142.50     18\nひとひら (Hitohira)                                      74.00     12\nカマクラコレクション (Kamakura Collection)                     30.00      4\nボブジテン (Bob Jiten)                                    44.00      6\n猿道 (Monkey Road)                                     52.06      9\n\n[23264 rows x 2 columns]",
      "text/html": "<div>\n<style scoped>\n    .dataframe tbody tr th:only-of-type {\n        vertical-align: middle;\n    }\n\n    .dataframe tbody tr th {\n        vertical-align: top;\n    }\n\n    .dataframe thead th {\n        text-align: right;\n    }\n</style>\n<table border=\"1\" class=\"dataframe\">\n  <thead>\n    <tr style=\"text-align: right;\">\n      <th></th>\n      <th>rating</th>\n      <th>count</th>\n    </tr>\n    <tr>\n      <th>title</th>\n      <th></th>\n      <th></th>\n    </tr>\n  </thead>\n  <tbody>\n    <tr>\n      <th>!dentity Crisis?</th>\n      <td>52.60</td>\n      <td>9</td>\n    </tr>\n    <tr>\n      <th>#MyLife</th>\n      <td>40.00</td>\n      <td>7</td>\n    </tr>\n    <tr>\n      <th>&amp;Cetera</th>\n      <td>226.50</td>\n      <td>31</td>\n    </tr>\n    <tr>\n      <th>'65: Squad-Level Combat in the Jungles of Vietnam</th>\n      <td>304.50</td>\n      <td>40</td>\n    </tr>\n    <tr>\n      <th>'CA' Tactical Naval Warfare in the Pacific, 1941-45</th>\n      <td>167.00</td>\n      <td>37</td>\n    </tr>\n    <tr>\n      <th>...</th>\n      <td>...</td>\n      <td>...</td>\n    </tr>\n    <tr>\n      <th>なつめも (Natsumemo)</th>\n      <td>142.50</td>\n      <td>18</td>\n    </tr>\n    <tr>\n      <th>ひとひら (Hitohira)</th>\n      <td>74.00</td>\n      <td>12</td>\n    </tr>\n    <tr>\n      <th>カマクラコレクション (Kamakura Collection)</th>\n      <td>30.00</td>\n      <td>4</td>\n    </tr>\n    <tr>\n      <th>ボブジテン (Bob Jiten)</th>\n      <td>44.00</td>\n      <td>6</td>\n    </tr>\n    <tr>\n      <th>猿道 (Monkey Road)</th>\n      <td>52.06</td>\n      <td>9</td>\n    </tr>\n  </tbody>\n</table>\n<p>23264 rows × 2 columns</p>\n</div>"
     },
     "execution_count": 54,
     "metadata": {},
     "output_type": "execute_result"
    }
   ],
   "source": [
    "left=pd.merge(table1, table2, on = 'title')\n",
    "left"
   ],
   "metadata": {
    "collapsed": false,
    "ExecuteTime": {
     "end_time": "2023-10-23T23:50:08.650552400Z",
     "start_time": "2023-10-23T23:50:08.477243100Z"
    }
   },
   "id": "2da19b2c2a24338a"
  },
  {
   "cell_type": "code",
   "execution_count": 57,
   "outputs": [
    {
     "data": {
      "text/plain": "                                                    rating_x  count  rating_y\ntitle                                                                        \n!dentity Crisis?                                       52.60      9  5.844444\n#MyLife                                                40.00      7  5.714286\n&Cetera                                               226.50     31  7.306452\n'65: Squad-Level Combat in the Jungles of Vietnam     304.50     40  7.612500\n'CA' Tactical Naval Warfare in the Pacific, 194...    167.00     37  4.513514\n...                                                      ...    ...       ...\nなつめも (Natsumemo)                                      142.50     18  7.916667\nひとひら (Hitohira)                                        74.00     12  6.166667\nカマクラコレクション (Kamakura Collection)                       30.00      4  7.500000\nボブジテン (Bob Jiten)                                      44.00      6  7.333333\n猿道 (Monkey Road)                                       52.06      9  5.784444\n\n[23264 rows x 3 columns]",
      "text/html": "<div>\n<style scoped>\n    .dataframe tbody tr th:only-of-type {\n        vertical-align: middle;\n    }\n\n    .dataframe tbody tr th {\n        vertical-align: top;\n    }\n\n    .dataframe thead th {\n        text-align: right;\n    }\n</style>\n<table border=\"1\" class=\"dataframe\">\n  <thead>\n    <tr style=\"text-align: right;\">\n      <th></th>\n      <th>rating_x</th>\n      <th>count</th>\n      <th>rating_y</th>\n    </tr>\n    <tr>\n      <th>title</th>\n      <th></th>\n      <th></th>\n      <th></th>\n    </tr>\n  </thead>\n  <tbody>\n    <tr>\n      <th>!dentity Crisis?</th>\n      <td>52.60</td>\n      <td>9</td>\n      <td>5.844444</td>\n    </tr>\n    <tr>\n      <th>#MyLife</th>\n      <td>40.00</td>\n      <td>7</td>\n      <td>5.714286</td>\n    </tr>\n    <tr>\n      <th>&amp;Cetera</th>\n      <td>226.50</td>\n      <td>31</td>\n      <td>7.306452</td>\n    </tr>\n    <tr>\n      <th>'65: Squad-Level Combat in the Jungles of Vietnam</th>\n      <td>304.50</td>\n      <td>40</td>\n      <td>7.612500</td>\n    </tr>\n    <tr>\n      <th>'CA' Tactical Naval Warfare in the Pacific, 1941-45</th>\n      <td>167.00</td>\n      <td>37</td>\n      <td>4.513514</td>\n    </tr>\n    <tr>\n      <th>...</th>\n      <td>...</td>\n      <td>...</td>\n      <td>...</td>\n    </tr>\n    <tr>\n      <th>なつめも (Natsumemo)</th>\n      <td>142.50</td>\n      <td>18</td>\n      <td>7.916667</td>\n    </tr>\n    <tr>\n      <th>ひとひら (Hitohira)</th>\n      <td>74.00</td>\n      <td>12</td>\n      <td>6.166667</td>\n    </tr>\n    <tr>\n      <th>カマクラコレクション (Kamakura Collection)</th>\n      <td>30.00</td>\n      <td>4</td>\n      <td>7.500000</td>\n    </tr>\n    <tr>\n      <th>ボブジテン (Bob Jiten)</th>\n      <td>44.00</td>\n      <td>6</td>\n      <td>7.333333</td>\n    </tr>\n    <tr>\n      <th>猿道 (Monkey Road)</th>\n      <td>52.06</td>\n      <td>9</td>\n      <td>5.784444</td>\n    </tr>\n  </tbody>\n</table>\n<p>23264 rows × 3 columns</p>\n</div>"
     },
     "execution_count": 57,
     "metadata": {},
     "output_type": "execute_result"
    }
   ],
   "source": [
    "full_table=pd.merge(left, table3, on='title')\n",
    "full_table"
   ],
   "metadata": {
    "collapsed": false,
    "ExecuteTime": {
     "end_time": "2023-10-23T23:51:08.130245200Z",
     "start_time": "2023-10-23T23:51:08.079354500Z"
    }
   },
   "id": "cf1116f0659b6aa"
  },
  {
   "cell_type": "code",
   "execution_count": 68,
   "outputs": [
    {
     "data": {
      "text/plain": "                                                    rating_sum  rating_number  \\\ntitle                                                                           \n!dentity Crisis?                                         52.60              9   \n#MyLife                                                  40.00              7   \n&Cetera                                                 226.50             31   \n'65: Squad-Level Combat in the Jungles of Vietnam       304.50             40   \n'CA' Tactical Naval Warfare in the Pacific, 194...      167.00             37   \n...                                                        ...            ...   \nなつめも (Natsumemo)                                        142.50             18   \nひとひら (Hitohira)                                          74.00             12   \nカマクラコレクション (Kamakura Collection)                         30.00              4   \nボブジテン (Bob Jiten)                                        44.00              6   \n猿道 (Monkey Road)                                         52.06              9   \n\n                                                    rating_average  \ntitle                                                               \n!dentity Crisis?                                          5.844444  \n#MyLife                                                   5.714286  \n&Cetera                                                   7.306452  \n'65: Squad-Level Combat in the Jungles of Vietnam         7.612500  \n'CA' Tactical Naval Warfare in the Pacific, 194...        4.513514  \n...                                                            ...  \nなつめも (Natsumemo)                                          7.916667  \nひとひら (Hitohira)                                           6.166667  \nカマクラコレクション (Kamakura Collection)                          7.500000  \nボブジテン (Bob Jiten)                                         7.333333  \n猿道 (Monkey Road)                                          5.784444  \n\n[23264 rows x 3 columns]",
      "text/html": "<div>\n<style scoped>\n    .dataframe tbody tr th:only-of-type {\n        vertical-align: middle;\n    }\n\n    .dataframe tbody tr th {\n        vertical-align: top;\n    }\n\n    .dataframe thead th {\n        text-align: right;\n    }\n</style>\n<table border=\"1\" class=\"dataframe\">\n  <thead>\n    <tr style=\"text-align: right;\">\n      <th></th>\n      <th>rating_sum</th>\n      <th>rating_number</th>\n      <th>rating_average</th>\n    </tr>\n    <tr>\n      <th>title</th>\n      <th></th>\n      <th></th>\n      <th></th>\n    </tr>\n  </thead>\n  <tbody>\n    <tr>\n      <th>!dentity Crisis?</th>\n      <td>52.60</td>\n      <td>9</td>\n      <td>5.844444</td>\n    </tr>\n    <tr>\n      <th>#MyLife</th>\n      <td>40.00</td>\n      <td>7</td>\n      <td>5.714286</td>\n    </tr>\n    <tr>\n      <th>&amp;Cetera</th>\n      <td>226.50</td>\n      <td>31</td>\n      <td>7.306452</td>\n    </tr>\n    <tr>\n      <th>'65: Squad-Level Combat in the Jungles of Vietnam</th>\n      <td>304.50</td>\n      <td>40</td>\n      <td>7.612500</td>\n    </tr>\n    <tr>\n      <th>'CA' Tactical Naval Warfare in the Pacific, 1941-45</th>\n      <td>167.00</td>\n      <td>37</td>\n      <td>4.513514</td>\n    </tr>\n    <tr>\n      <th>...</th>\n      <td>...</td>\n      <td>...</td>\n      <td>...</td>\n    </tr>\n    <tr>\n      <th>なつめも (Natsumemo)</th>\n      <td>142.50</td>\n      <td>18</td>\n      <td>7.916667</td>\n    </tr>\n    <tr>\n      <th>ひとひら (Hitohira)</th>\n      <td>74.00</td>\n      <td>12</td>\n      <td>6.166667</td>\n    </tr>\n    <tr>\n      <th>カマクラコレクション (Kamakura Collection)</th>\n      <td>30.00</td>\n      <td>4</td>\n      <td>7.500000</td>\n    </tr>\n    <tr>\n      <th>ボブジテン (Bob Jiten)</th>\n      <td>44.00</td>\n      <td>6</td>\n      <td>7.333333</td>\n    </tr>\n    <tr>\n      <th>猿道 (Monkey Road)</th>\n      <td>52.06</td>\n      <td>9</td>\n      <td>5.784444</td>\n    </tr>\n  </tbody>\n</table>\n<p>23264 rows × 3 columns</p>\n</div>"
     },
     "execution_count": 68,
     "metadata": {},
     "output_type": "execute_result"
    }
   ],
   "source": [
    "full_table.rename(columns={'rating_x': 'rating_sum', 'count': 'rating_number', 'rating_y': 'rating_average'}, inplace=True)\n",
    "full_table"
   ],
   "metadata": {
    "collapsed": false,
    "ExecuteTime": {
     "end_time": "2023-10-24T01:09:32.590968400Z",
     "start_time": "2023-10-24T01:09:32.350904200Z"
    }
   },
   "id": "e8e0812344f469be"
  },
  {
   "cell_type": "code",
   "execution_count": 61,
   "outputs": [
    {
     "data": {
      "text/plain": "4540161.76583"
     },
     "execution_count": 61,
     "metadata": {},
     "output_type": "execute_result"
    }
   ],
   "source": [
    "total_rating=full_table['rating_sum'].sum()\n",
    "total_rating"
   ],
   "metadata": {
    "collapsed": false,
    "ExecuteTime": {
     "end_time": "2023-10-24T00:51:46.367236900Z",
     "start_time": "2023-10-24T00:51:46.297764500Z"
    }
   },
   "id": "61f339cc2b492be0"
  },
  {
   "cell_type": "code",
   "execution_count": 69,
   "outputs": [
    {
     "data": {
      "text/plain": "706813"
     },
     "execution_count": 69,
     "metadata": {},
     "output_type": "execute_result"
    }
   ],
   "source": [
    "total_count=full_table['rating_number'].sum()\n",
    "total_count"
   ],
   "metadata": {
    "collapsed": false,
    "ExecuteTime": {
     "end_time": "2023-10-24T01:09:54.224480100Z",
     "start_time": "2023-10-24T01:09:54.184587600Z"
    }
   },
   "id": "729e7d1adaf436f2"
  },
  {
   "cell_type": "code",
   "execution_count": 70,
   "outputs": [
    {
     "name": "stdout",
     "output_type": "stream",
     "text": [
      "Prior mean is 6.423427081604328\n"
     ]
    }
   ],
   "source": [
    "prior_mean=total_rating/total_count\n",
    "print('Prior mean is', prior_mean)"
   ],
   "metadata": {
    "collapsed": false,
    "ExecuteTime": {
     "end_time": "2023-10-24T01:10:13.168836300Z",
     "start_time": "2023-10-24T01:10:13.156711600Z"
    }
   },
   "id": "77dceb25dbdf6e1d"
  },
  {
   "cell_type": "code",
   "execution_count": 108,
   "outputs": [],
   "source": [
    "from Board_Game_Project import Bayesian_Average"
   ],
   "metadata": {
    "collapsed": false,
    "ExecuteTime": {
     "end_time": "2023-10-24T01:41:49.305290700Z",
     "start_time": "2023-10-24T01:41:49.191188200Z"
    }
   },
   "id": "9147c481a21fe743"
  },
  {
   "cell_type": "code",
   "execution_count": 111,
   "outputs": [
    {
     "data": {
      "text/plain": "                                        !dentity Crisis?   52.60   9  \\\n0                                                #MyLife   40.00   7   \n1                                                &Cetera  226.50  31   \n2      '65: Squad-Level Combat in the Jungles of Vietnam  304.50  40   \n3      'CA' Tactical Naval Warfare in the Pacific, 19...  167.00  37   \n4                                             'Nam Diary   30.40   5   \n...                                                  ...     ...  ..   \n23258                                   なつめも (Natsumemo)  142.50  18   \n23259                                    ひとひら (Hitohira)   74.00  12   \n23260                   カマクラコレクション (Kamakura Collection)   30.00   4   \n23261                                  ボブジテン (Bob Jiten)   44.00   6   \n23262                                   猿道 (Monkey Road)   52.06   9   \n\n       5.844444                                   bayesian_average  \n0      5.714286  <function Bayesian_average_funct at 0x00000204...  \n1      7.306452  <function Bayesian_average_funct at 0x00000204...  \n2      7.612500  <function Bayesian_average_funct at 0x00000204...  \n3      4.513514  <function Bayesian_average_funct at 0x00000204...  \n4      6.080000  <function Bayesian_average_funct at 0x00000204...  \n...         ...                                                ...  \n23258  7.916667  <function Bayesian_average_funct at 0x00000204...  \n23259  6.166667  <function Bayesian_average_funct at 0x00000204...  \n23260  7.500000  <function Bayesian_average_funct at 0x00000204...  \n23261  7.333333  <function Bayesian_average_funct at 0x00000204...  \n23262  5.784444  <function Bayesian_average_funct at 0x00000204...  \n\n[23263 rows x 5 columns]",
      "text/html": "<div>\n<style scoped>\n    .dataframe tbody tr th:only-of-type {\n        vertical-align: middle;\n    }\n\n    .dataframe tbody tr th {\n        vertical-align: top;\n    }\n\n    .dataframe thead th {\n        text-align: right;\n    }\n</style>\n<table border=\"1\" class=\"dataframe\">\n  <thead>\n    <tr style=\"text-align: right;\">\n      <th></th>\n      <th>!dentity Crisis?</th>\n      <th>52.60</th>\n      <th>9</th>\n      <th>5.844444</th>\n      <th>bayesian_average</th>\n    </tr>\n  </thead>\n  <tbody>\n    <tr>\n      <th>0</th>\n      <td>#MyLife</td>\n      <td>40.00</td>\n      <td>7</td>\n      <td>5.714286</td>\n      <td>&lt;function Bayesian_average_funct at 0x00000204...</td>\n    </tr>\n    <tr>\n      <th>1</th>\n      <td>&amp;Cetera</td>\n      <td>226.50</td>\n      <td>31</td>\n      <td>7.306452</td>\n      <td>&lt;function Bayesian_average_funct at 0x00000204...</td>\n    </tr>\n    <tr>\n      <th>2</th>\n      <td>'65: Squad-Level Combat in the Jungles of Vietnam</td>\n      <td>304.50</td>\n      <td>40</td>\n      <td>7.612500</td>\n      <td>&lt;function Bayesian_average_funct at 0x00000204...</td>\n    </tr>\n    <tr>\n      <th>3</th>\n      <td>'CA' Tactical Naval Warfare in the Pacific, 19...</td>\n      <td>167.00</td>\n      <td>37</td>\n      <td>4.513514</td>\n      <td>&lt;function Bayesian_average_funct at 0x00000204...</td>\n    </tr>\n    <tr>\n      <th>4</th>\n      <td>'Nam Diary</td>\n      <td>30.40</td>\n      <td>5</td>\n      <td>6.080000</td>\n      <td>&lt;function Bayesian_average_funct at 0x00000204...</td>\n    </tr>\n    <tr>\n      <th>...</th>\n      <td>...</td>\n      <td>...</td>\n      <td>...</td>\n      <td>...</td>\n      <td>...</td>\n    </tr>\n    <tr>\n      <th>23258</th>\n      <td>なつめも (Natsumemo)</td>\n      <td>142.50</td>\n      <td>18</td>\n      <td>7.916667</td>\n      <td>&lt;function Bayesian_average_funct at 0x00000204...</td>\n    </tr>\n    <tr>\n      <th>23259</th>\n      <td>ひとひら (Hitohira)</td>\n      <td>74.00</td>\n      <td>12</td>\n      <td>6.166667</td>\n      <td>&lt;function Bayesian_average_funct at 0x00000204...</td>\n    </tr>\n    <tr>\n      <th>23260</th>\n      <td>カマクラコレクション (Kamakura Collection)</td>\n      <td>30.00</td>\n      <td>4</td>\n      <td>7.500000</td>\n      <td>&lt;function Bayesian_average_funct at 0x00000204...</td>\n    </tr>\n    <tr>\n      <th>23261</th>\n      <td>ボブジテン (Bob Jiten)</td>\n      <td>44.00</td>\n      <td>6</td>\n      <td>7.333333</td>\n      <td>&lt;function Bayesian_average_funct at 0x00000204...</td>\n    </tr>\n    <tr>\n      <th>23262</th>\n      <td>猿道 (Monkey Road)</td>\n      <td>52.06</td>\n      <td>9</td>\n      <td>5.784444</td>\n      <td>&lt;function Bayesian_average_funct at 0x00000204...</td>\n    </tr>\n  </tbody>\n</table>\n<p>23263 rows × 5 columns</p>\n</div>"
     },
     "execution_count": 111,
     "metadata": {},
     "output_type": "execute_result"
    }
   ],
   "source": [
    "Bayesian_Average.data"
   ],
   "metadata": {
    "collapsed": false,
    "ExecuteTime": {
     "end_time": "2023-10-24T01:42:51.096492Z",
     "start_time": "2023-10-24T01:42:50.965940600Z"
    }
   },
   "id": "2789298a14286748"
  },
  {
   "cell_type": "code",
   "execution_count": null,
   "outputs": [],
   "source": [],
   "metadata": {
    "collapsed": false
   },
   "id": "520251b875c0d349"
  }
 ],
 "metadata": {
  "kernelspec": {
   "display_name": "Python 3",
   "language": "python",
   "name": "python3"
  },
  "language_info": {
   "codemirror_mode": {
    "name": "ipython",
    "version": 2
   },
   "file_extension": ".py",
   "mimetype": "text/x-python",
   "name": "python",
   "nbconvert_exporter": "python",
   "pygments_lexer": "ipython2",
   "version": "2.7.6"
  }
 },
 "nbformat": 4,
 "nbformat_minor": 5
}
