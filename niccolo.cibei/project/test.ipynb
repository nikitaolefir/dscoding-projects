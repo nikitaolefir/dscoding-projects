{
 "cells": [
  {
   "cell_type": "code",
   "execution_count": 1,
   "id": "initial_id",
   "metadata": {
    "collapsed": true,
    "ExecuteTime": {
     "end_time": "2023-10-20T14:56:08.185376200Z",
     "start_time": "2023-10-20T14:56:06.461879600Z"
    }
   },
   "outputs": [],
   "source": [
    "import pandas as pd"
   ]
  },
  {
   "cell_type": "code",
   "execution_count": 3,
   "outputs": [
    {
     "data": {
      "text/plain": "              city   city_ascii      lat       lng      country iso2 iso3  \\\n0            Tokyo        Tokyo  35.6897  139.6922        Japan   JP  JPN   \n1          Jakarta      Jakarta  -6.2146  106.8451    Indonesia   ID  IDN   \n2            Delhi        Delhi  28.6600   77.2300        India   IN  IND   \n3           Mumbai       Mumbai  18.9667   72.8333        India   IN  IND   \n4           Manila       Manila  14.5958  120.9772  Philippines   PH  PHL   \n...            ...          ...      ...       ...          ...  ...  ...   \n26564         Nord         Nord  81.7166  -17.8000    Greenland   GL  GRL   \n26565  Timmiarmiut  Timmiarmiut  62.5333  -42.2167    Greenland   GL  GRL   \n26566  Cheremoshna  Cheremoshna  51.3894   30.0989      Ukraine   UA  UKR   \n26567    Ambarchik    Ambarchik  69.6510  162.3336       Russia   RU  RUS   \n26568      Nordvik      Nordvik  74.0165  111.5100       Russia   RU  RUS   \n\n               admin_name  capital  population          id  \n0                   Tōkyō  primary  37977000.0  1392685764  \n1                 Jakarta  primary  34540000.0  1360771077  \n2                   Delhi    admin  29617000.0  1356872604  \n3             Mahārāshtra    admin  23355000.0  1356226629  \n4                  Manila  primary  23088000.0  1608618140  \n...                   ...      ...         ...         ...  \n26564          Sermersooq      NaN        10.0  1304217709  \n26565            Kujalleq      NaN        10.0  1304206491  \n26566   Kyyivs’ka Oblast’      NaN         0.0  1804043438  \n26567    Sakha (Yakutiya)      NaN         0.0  1643739159  \n26568  Krasnoyarskiy Kray      NaN         0.0  1643587468  \n\n[26569 rows x 11 columns]",
      "text/html": "<div>\n<style scoped>\n    .dataframe tbody tr th:only-of-type {\n        vertical-align: middle;\n    }\n\n    .dataframe tbody tr th {\n        vertical-align: top;\n    }\n\n    .dataframe thead th {\n        text-align: right;\n    }\n</style>\n<table border=\"1\" class=\"dataframe\">\n  <thead>\n    <tr style=\"text-align: right;\">\n      <th></th>\n      <th>city</th>\n      <th>city_ascii</th>\n      <th>lat</th>\n      <th>lng</th>\n      <th>country</th>\n      <th>iso2</th>\n      <th>iso3</th>\n      <th>admin_name</th>\n      <th>capital</th>\n      <th>population</th>\n      <th>id</th>\n    </tr>\n  </thead>\n  <tbody>\n    <tr>\n      <th>0</th>\n      <td>Tokyo</td>\n      <td>Tokyo</td>\n      <td>35.6897</td>\n      <td>139.6922</td>\n      <td>Japan</td>\n      <td>JP</td>\n      <td>JPN</td>\n      <td>Tōkyō</td>\n      <td>primary</td>\n      <td>37977000.0</td>\n      <td>1392685764</td>\n    </tr>\n    <tr>\n      <th>1</th>\n      <td>Jakarta</td>\n      <td>Jakarta</td>\n      <td>-6.2146</td>\n      <td>106.8451</td>\n      <td>Indonesia</td>\n      <td>ID</td>\n      <td>IDN</td>\n      <td>Jakarta</td>\n      <td>primary</td>\n      <td>34540000.0</td>\n      <td>1360771077</td>\n    </tr>\n    <tr>\n      <th>2</th>\n      <td>Delhi</td>\n      <td>Delhi</td>\n      <td>28.6600</td>\n      <td>77.2300</td>\n      <td>India</td>\n      <td>IN</td>\n      <td>IND</td>\n      <td>Delhi</td>\n      <td>admin</td>\n      <td>29617000.0</td>\n      <td>1356872604</td>\n    </tr>\n    <tr>\n      <th>3</th>\n      <td>Mumbai</td>\n      <td>Mumbai</td>\n      <td>18.9667</td>\n      <td>72.8333</td>\n      <td>India</td>\n      <td>IN</td>\n      <td>IND</td>\n      <td>Mahārāshtra</td>\n      <td>admin</td>\n      <td>23355000.0</td>\n      <td>1356226629</td>\n    </tr>\n    <tr>\n      <th>4</th>\n      <td>Manila</td>\n      <td>Manila</td>\n      <td>14.5958</td>\n      <td>120.9772</td>\n      <td>Philippines</td>\n      <td>PH</td>\n      <td>PHL</td>\n      <td>Manila</td>\n      <td>primary</td>\n      <td>23088000.0</td>\n      <td>1608618140</td>\n    </tr>\n    <tr>\n      <th>...</th>\n      <td>...</td>\n      <td>...</td>\n      <td>...</td>\n      <td>...</td>\n      <td>...</td>\n      <td>...</td>\n      <td>...</td>\n      <td>...</td>\n      <td>...</td>\n      <td>...</td>\n      <td>...</td>\n    </tr>\n    <tr>\n      <th>26564</th>\n      <td>Nord</td>\n      <td>Nord</td>\n      <td>81.7166</td>\n      <td>-17.8000</td>\n      <td>Greenland</td>\n      <td>GL</td>\n      <td>GRL</td>\n      <td>Sermersooq</td>\n      <td>NaN</td>\n      <td>10.0</td>\n      <td>1304217709</td>\n    </tr>\n    <tr>\n      <th>26565</th>\n      <td>Timmiarmiut</td>\n      <td>Timmiarmiut</td>\n      <td>62.5333</td>\n      <td>-42.2167</td>\n      <td>Greenland</td>\n      <td>GL</td>\n      <td>GRL</td>\n      <td>Kujalleq</td>\n      <td>NaN</td>\n      <td>10.0</td>\n      <td>1304206491</td>\n    </tr>\n    <tr>\n      <th>26566</th>\n      <td>Cheremoshna</td>\n      <td>Cheremoshna</td>\n      <td>51.3894</td>\n      <td>30.0989</td>\n      <td>Ukraine</td>\n      <td>UA</td>\n      <td>UKR</td>\n      <td>Kyyivs’ka Oblast’</td>\n      <td>NaN</td>\n      <td>0.0</td>\n      <td>1804043438</td>\n    </tr>\n    <tr>\n      <th>26567</th>\n      <td>Ambarchik</td>\n      <td>Ambarchik</td>\n      <td>69.6510</td>\n      <td>162.3336</td>\n      <td>Russia</td>\n      <td>RU</td>\n      <td>RUS</td>\n      <td>Sakha (Yakutiya)</td>\n      <td>NaN</td>\n      <td>0.0</td>\n      <td>1643739159</td>\n    </tr>\n    <tr>\n      <th>26568</th>\n      <td>Nordvik</td>\n      <td>Nordvik</td>\n      <td>74.0165</td>\n      <td>111.5100</td>\n      <td>Russia</td>\n      <td>RU</td>\n      <td>RUS</td>\n      <td>Krasnoyarskiy Kray</td>\n      <td>NaN</td>\n      <td>0.0</td>\n      <td>1643587468</td>\n    </tr>\n  </tbody>\n</table>\n<p>26569 rows × 11 columns</p>\n</div>"
     },
     "execution_count": 3,
     "metadata": {},
     "output_type": "execute_result"
    }
   ],
   "source": [
    " url = 'http://island.ricerca.di.unimi.it/~alfio/shared/worldcities.xlsx'\n",
    "file = pd.read_excel(url)\n",
    "file"
   ],
   "metadata": {
    "collapsed": false,
    "ExecuteTime": {
     "end_time": "2023-10-20T14:56:40.921880800Z",
     "start_time": "2023-10-20T14:56:36.833700200Z"
    }
   },
   "id": "d2b7213a1a6c3009"
  },
  {
   "cell_type": "code",
   "execution_count": null,
   "outputs": [],
   "source": [
    "ps."
   ],
   "metadata": {
    "collapsed": false
   },
   "id": "afd49635240ab5f2"
  },
  {
   "cell_type": "code",
   "execution_count": null,
   "outputs": [],
   "source": [],
   "metadata": {
    "collapsed": false
   },
   "id": "15aa167751f5d9f9"
  },
  {
   "cell_type": "code",
   "execution_count": null,
   "outputs": [],
   "source": [],
   "metadata": {
    "collapsed": false
   },
   "id": "11f22ef52fb3762a"
  }
 ],
 "metadata": {
  "kernelspec": {
   "display_name": "Python 3",
   "language": "python",
   "name": "python3"
  },
  "language_info": {
   "codemirror_mode": {
    "name": "ipython",
    "version": 2
   },
   "file_extension": ".py",
   "mimetype": "text/x-python",
   "name": "python",
   "nbconvert_exporter": "python",
   "pygments_lexer": "ipython2",
   "version": "2.7.6"
  }
 },
 "nbformat": 4,
 "nbformat_minor": 5
}
